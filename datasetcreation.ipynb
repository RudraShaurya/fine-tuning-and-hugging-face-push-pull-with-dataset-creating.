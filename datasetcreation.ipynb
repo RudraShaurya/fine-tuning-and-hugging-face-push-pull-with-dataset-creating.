{
 "metadata": {
  "kernelspec": {
   "language": "python",
   "display_name": "Python 3",
   "name": "python3"
  },
  "language_info": {
   "name": "python",
   "version": "3.10.13",
   "mimetype": "text/x-python",
   "codemirror_mode": {
    "name": "ipython",
    "version": 3
   },
   "pygments_lexer": "ipython3",
   "nbconvert_exporter": "python",
   "file_extension": ".py"
  },
  "kaggle": {
   "accelerator": "gpu",
   "dataSources": [],
   "dockerImageVersionId": 30683,
   "isInternetEnabled": true,
   "language": "python",
   "sourceType": "notebook",
   "isGpuEnabled": true
  }
 },
 "nbformat_minor": 4,
 "nbformat": 4,
 "cells": [
  {
   "cell_type": "code",
   "source": [
    "import os \n",
    "from huggingface_hub import hf_hub_download\n",
    "import transformers\n",
    "import torch"
   ],
   "metadata": {
    "_uuid": "8f2839f25d086af736a60e9eeb907d3b93b6e0e5",
    "_cell_guid": "b1076dfc-b9ad-4769-8c92-a6c4dae69d19",
    "execution": {
     "iopub.status.busy": "2024-04-10T22:27:11.679020Z",
     "iopub.execute_input": "2024-04-10T22:27:11.679735Z",
     "iopub.status.idle": "2024-04-10T22:27:17.635362Z",
     "shell.execute_reply.started": "2024-04-10T22:27:11.679701Z",
     "shell.execute_reply": "2024-04-10T22:27:17.634383Z"
    },
    "trusted": true
   },
   "execution_count": 1,
   "outputs": []
  },
  {
   "cell_type": "code",
   "source": [
    "from datasets import load_dataset\n",
    "\n",
    "# Load the dataset\n",
    "dataset = load_dataset(\"timdettmers/openassistant-guanaco\", split = \"train\")\n",
    "\n",
    "ds = dataset.select(range(500))"
   ],
   "metadata": {
    "execution": {
     "iopub.status.busy": "2024-04-10T22:27:19.806424Z",
     "iopub.execute_input": "2024-04-10T22:27:19.806928Z",
     "iopub.status.idle": "2024-04-10T22:27:24.027415Z",
     "shell.execute_reply.started": "2024-04-10T22:27:19.806892Z",
     "shell.execute_reply": "2024-04-10T22:27:24.026298Z"
    },
    "trusted": true
   },
   "execution_count": 2,
   "outputs": [
    {
     "output_type": "display_data",
     "data": {
      "text/plain": "Downloading readme:   0%|          | 0.00/395 [00:00<?, ?B/s]",
      "application/vnd.jupyter.widget-view+json": {
       "version_major": 2,
       "version_minor": 0,
       "model_id": "e06e33d5df394e6cb584a6fb84b67f3c"
      }
     },
     "metadata": {}
    },
    {
     "name": "stderr",
     "text": "Repo card metadata block was not found. Setting CardData to empty.\nDownloading data: 100%|██████████| 20.9M/20.9M [00:00<00:00, 64.0MB/s]\nDownloading data: 100%|██████████| 1.11M/1.11M [00:00<00:00, 9.15MB/s]\n",
     "output_type": "stream"
    },
    {
     "output_type": "display_data",
     "data": {
      "text/plain": "Generating train split: 0 examples [00:00, ? examples/s]",
      "application/vnd.jupyter.widget-view+json": {
       "version_major": 2,
       "version_minor": 0,
       "model_id": "c99259f9eac143b59e41660aacb26908"
      }
     },
     "metadata": {}
    },
    {
     "output_type": "display_data",
     "data": {
      "text/plain": "Generating test split: 0 examples [00:00, ? examples/s]",
      "application/vnd.jupyter.widget-view+json": {
       "version_major": 2,
       "version_minor": 0,
       "model_id": "751e53122ef04910923a3293b838335d"
      }
     },
     "metadata": {}
    }
   ]
  },
  {
   "cell_type": "code",
   "source": [
    "data=[]\n",
    "for x in ds:\n",
    "    a = x['text']\n",
    "    data.append(a)"
   ],
   "metadata": {
    "execution": {
     "iopub.status.busy": "2024-04-10T22:30:09.901666Z",
     "iopub.execute_input": "2024-04-10T22:30:09.902098Z",
     "iopub.status.idle": "2024-04-10T22:30:09.923449Z",
     "shell.execute_reply.started": "2024-04-10T22:30:09.902067Z",
     "shell.execute_reply": "2024-04-10T22:30:09.922239Z"
    },
    "trusted": true
   },
   "execution_count": 10,
   "outputs": []
  },
  {
   "cell_type": "code",
   "source": [
    "data[0]"
   ],
   "metadata": {
    "execution": {
     "iopub.status.busy": "2024-04-10T22:30:10.602014Z",
     "iopub.execute_input": "2024-04-10T22:30:10.602393Z",
     "iopub.status.idle": "2024-04-10T22:30:10.609278Z",
     "shell.execute_reply.started": "2024-04-10T22:30:10.602365Z",
     "shell.execute_reply": "2024-04-10T22:30:10.608074Z"
    },
    "trusted": true
   },
   "execution_count": 11,
   "outputs": [
    {
     "execution_count": 11,
     "output_type": "execute_result",
     "data": {
      "text/plain": "'### Human: Can you write a short introduction about the relevance of the term \"monopsony\" in economics? Please use examples related to potential monopsonies in the labour market and cite relevant research.### Assistant: \"Monopsony\" refers to a market structure where there is only one buyer for a particular good or service. In economics, this term is particularly relevant in the labor market, where a monopsony employer has significant power over the wages and working conditions of their employees. The presence of a monopsony can result in lower wages and reduced employment opportunities for workers, as the employer has little incentive to increase wages or provide better working conditions.\\n\\nRecent research has identified potential monopsonies in industries such as retail and fast food, where a few large companies control a significant portion of the market (Bivens & Mishel, 2013). In these industries, workers often face low wages, limited benefits, and reduced bargaining power, leading to a situation where they are dependent on the employer for their livelihood. This dependence can result in further suppression of wages and a decline in working conditions.\\n\\nOverall, the concept of monopsony is essential to understanding the dynamics of labor markets and the impact of market power on workers. Further research is needed to understand the extent and impact of monopsonies on the economy and to develop policies to address this issue.\\n\\nReferences:\\nBivens, J., & Mishel, L. (2013). The Pay of Corporate Executives and Financial Professionals as Evidence of Rents in Top 1 Percent Incomes. Journal of Economic Perspectives, 27(3), 57-78.### Human: Now explain it to a dog'"
     },
     "metadata": {}
    }
   ]
  },
  {
   "cell_type": "code",
   "source": [
    "from transformers import BertTokenizer\n",
    "from sklearn.feature_extraction.text import TfidfVectorizer\n",
    "from sklearn.metrics.pairwise import cosine_similarity\n",
    "\n",
    "# Initialize the BERT tokenizer\n",
    "tokenizer = BertTokenizer.from_pretrained('bert-base-uncased')\n",
    "\n",
    "# Tokenize the text data\n",
    "tokens = [tokenizer.tokenize(text) for text in data]\n",
    "\n",
    "# Filter out instructions with less than 100 tokens\n",
    "filtered_tokens = [token for token in tokens if len(token) >= 100]\n",
    "\n",
    "# Convert tokens to text\n",
    "text_corpus = [\" \".join(token) for token in filtered_tokens]\n",
    "\n",
    "# Create TF-IDF vectors\n",
    "tfidf_vectorizer = TfidfVectorizer()\n",
    "tfidf_matrix = tfidf_vectorizer.fit_transform(text_corpus)\n",
    "\n",
    "# Calculate cosine similarity matrix\n",
    "cosine_sim_matrix = cosine_similarity(tfidf_matrix, tfidf_matrix)\n",
    "\n",
    "# Define the similarity threshold\n",
    "similarity_threshold = 0.95\n",
    "\n",
    "# Group similar instructions\n",
    "groups = []\n",
    "visited = [False] * len(text_corpus)\n",
    "for i in range(len(text_corpus)):\n",
    "    if not visited[i]:\n",
    "        group = [i]\n",
    "        visited[i] = True\n",
    "        for j in range(i + 1, len(text_corpus)):\n",
    "            if not visited[j] and cosine_sim_matrix[i, j] >= similarity_threshold:\n",
    "                group.append(j)\n",
    "                visited[j] = True\n",
    "        groups.append(group)\n",
    "\n"
   ],
   "metadata": {
    "execution": {
     "iopub.status.busy": "2024-04-10T22:30:18.444171Z",
     "iopub.execute_input": "2024-04-10T22:30:18.444554Z",
     "iopub.status.idle": "2024-04-10T22:30:26.152518Z",
     "shell.execute_reply.started": "2024-04-10T22:30:18.444525Z",
     "shell.execute_reply": "2024-04-10T22:30:26.151457Z"
    },
    "trusted": true
   },
   "execution_count": 12,
   "outputs": []
  },
  {
   "cell_type": "code",
   "source": [
    "# Print the grouped instructions and their input IDs\n",
    "text = []\n",
    "input_ids = []\n",
    "print(\"Grouped Instructions:\")\n",
    "for group in groups:\n",
    "    for idx in group:\n",
    "        text.append(text_corpus[idx])\n",
    "        input_ids.append(tokenizer.convert_tokens_to_ids(filtered_tokens[idx]))"
   ],
   "metadata": {
    "execution": {
     "iopub.status.busy": "2024-04-10T22:34:02.747456Z",
     "iopub.execute_input": "2024-04-10T22:34:02.747880Z",
     "iopub.status.idle": "2024-04-10T22:34:03.071694Z",
     "shell.execute_reply.started": "2024-04-10T22:34:02.747846Z",
     "shell.execute_reply": "2024-04-10T22:34:03.070699Z"
    },
    "trusted": true
   },
   "execution_count": 13,
   "outputs": [
    {
     "name": "stdout",
     "text": "Grouped Instructions:\n",
     "output_type": "stream"
    }
   ]
  },
  {
   "cell_type": "code",
   "source": [
    "len(text)"
   ],
   "metadata": {
    "execution": {
     "iopub.status.busy": "2024-04-10T22:34:11.255611Z",
     "iopub.execute_input": "2024-04-10T22:34:11.256599Z",
     "iopub.status.idle": "2024-04-10T22:34:11.266607Z",
     "shell.execute_reply.started": "2024-04-10T22:34:11.256564Z",
     "shell.execute_reply": "2024-04-10T22:34:11.265478Z"
    },
    "trusted": true
   },
   "execution_count": 14,
   "outputs": [
    {
     "execution_count": 14,
     "output_type": "execute_result",
     "data": {
      "text/plain": "464"
     },
     "metadata": {}
    }
   ]
  },
  {
   "cell_type": "code",
   "source": [
    "csvdata=[]\n",
    "for i in range(464):\n",
    "    csvdata.append([text[i]])"
   ],
   "metadata": {
    "execution": {
     "iopub.status.busy": "2024-04-10T22:42:44.360877Z",
     "iopub.execute_input": "2024-04-10T22:42:44.361300Z",
     "iopub.status.idle": "2024-04-10T22:42:44.367004Z",
     "shell.execute_reply.started": "2024-04-10T22:42:44.361270Z",
     "shell.execute_reply": "2024-04-10T22:42:44.365858Z"
    },
    "trusted": true
   },
   "execution_count": 21,
   "outputs": []
  },
  {
   "cell_type": "code",
   "source": [
    "import csv\n",
    "with open('data.csv', 'w', newline='') as csvfile:\n",
    "  writer = csv.writer(csvfile)\n",
    "\n",
    "  # Write header row (optional)\n",
    "  writer.writerow(['text'])\n",
    "\n",
    "  # Write data rows\n",
    "  writer.writerows(csvdata)\n",
    "\n",
    "print(\"CSV file created successfully!\")"
   ],
   "metadata": {
    "execution": {
     "iopub.status.busy": "2024-04-10T22:42:46.182130Z",
     "iopub.execute_input": "2024-04-10T22:42:46.182513Z",
     "iopub.status.idle": "2024-04-10T22:42:46.241813Z",
     "shell.execute_reply.started": "2024-04-10T22:42:46.182485Z",
     "shell.execute_reply": "2024-04-10T22:42:46.240706Z"
    },
    "trusted": true
   },
   "execution_count": 22,
   "outputs": [
    {
     "name": "stdout",
     "text": "CSV file created successfully!\n",
     "output_type": "stream"
    }
   ]
  },
  {
   "cell_type": "code",
   "source": [],
   "metadata": {},
   "execution_count": null,
   "outputs": []
  }
 ]
}
